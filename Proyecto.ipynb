{
 "cells": [
  {
   "cell_type": "code",
   "execution_count": 16,
   "id": "5055fc95",
   "metadata": {},
   "outputs": [
    {
     "name": "stdout",
     "output_type": "stream",
     "text": [
      "   ID  CODIGO EVENTO  FECHA REPORTE MES REPORTE  SEMANA EPIDEMIOLOGICA  EDAD  \\\n",
      "0   1            210           2018       ENERO                      1    34   \n",
      "1   2            210           2018       ENERO                      1    28   \n",
      "2   3            210           2018       ENERO                      2    20   \n",
      "3   4            210           2018       ENERO                      2     1   \n",
      "4   5            210           2018       ENERO                      2     8   \n",
      "\n",
      "  UNI_MED NACIONALIDAD       SEXO REGIMEN DE SALUD       PERTENECIA ETNICA  \\\n",
      "0    AÑOS     COLOMBIA   FEMENINO       SUBSIDIADO  SIN PERTENENCIA ETNICA   \n",
      "1    AÑOS     COLOMBIA  MASCULINO       SUBSIDIADO  SIN PERTENENCIA ETNICA   \n",
      "2    AÑOS     COLOMBIA   FEMENINO       SUBSIDIADO  SIN PERTENENCIA ETNICA   \n",
      "3    AÑOS     COLOMBIA   FEMENINO     CONTRIBUTIVO  SIN PERTENENCIA ETNICA   \n",
      "4    AÑOS     COLOMBIA   FEMENINO       SUBSIDIADO  SIN PERTENENCIA ETNICA   \n",
      "\n",
      "                            NOM UPGD NOMBRE DEL EVENTO PAIS REPORTE  \\\n",
      "0               CLINICA MEDILASER SA            DENGUE     COLOMBIA   \n",
      "1  ESE HOSPITAL COMUNAL LAS MALVINAS            DENGUE     COLOMBIA   \n",
      "2            ESE HOSPITAL SAN RAFAEL            DENGUE     COLOMBIA   \n",
      "3               CLINICA MEDILASER SA            DENGUE     COLOMBIA   \n",
      "4                           SIN DATO            DENGUE     COLOMBIA   \n",
      "\n",
      "  DEPARTAMENTO REPORTE               MUNICIPIO REPORTE  Unnamed: 16  \n",
      "0              CAQUETA                       FLORENCIA          NaN  \n",
      "1              CAQUETA                       FLORENCIA          NaN  \n",
      "2              CAQUETA          SAN VICENTE DEL CAGUAN          NaN  \n",
      "3              CAQUETA          SAN VICENTE DEL CAGUAN          NaN  \n",
      "4              CAQUETA  CAQUETA. MUNICIPIO DESCONOCIDO          NaN  \n"
     ]
    }
   ],
   "source": [
    "import pandas as pd # pip install pandas\n",
    "import matplotlib.pyplot as plt # pip install matplotlib\n",
    "import seaborn as sns # pip install seaborn\n",
    "\n",
    "dengue = pd.read_csv('Casos_de_Dengue_Caqueta.csv')\n",
    "# Visualización de los datos\n",
    "print(dengue.head())\n",
    "\n"
   ]
  },
  {
   "cell_type": "code",
   "execution_count": 17,
   "id": "a248b6ad",
   "metadata": {},
   "outputs": [
    {
     "name": "stdout",
     "output_type": "stream",
     "text": [
      "   CodigoEstacion         NombreEstacion       Variable  \\\n",
      "0        44135010  ARARACUARA [44135010]  PRECIPITACION   \n",
      "1        44135010  ARARACUARA [44135010]  PRECIPITACION   \n",
      "2        44135010  ARARACUARA [44135010]  PRECIPITACION   \n",
      "3        44135010  ARARACUARA [44135010]  PRECIPITACION   \n",
      "4        44135010  ARARACUARA [44135010]  PRECIPITACION   \n",
      "\n",
      "                     Parametro           Fecha Unidad  Valor NivelAprobacion  \n",
      "0  Precipitacion total mensual  1/01/2018 0:00     mm  241.3      Definitivo  \n",
      "1  Precipitacion total mensual  1/02/2018 0:00     mm   62.1      Definitivo  \n",
      "2  Precipitacion total mensual  1/03/2018 0:00     mm  356.6      Definitivo  \n",
      "3  Precipitacion total mensual  1/04/2018 0:00     mm  394.4      Definitivo  \n",
      "4  Precipitacion total mensual  1/05/2018 0:00     mm  483.8      Definitivo  \n"
     ]
    }
   ],
   "source": [
    "# Imprimir el encabezado del apartado de lluvias.\n",
    "lluvia = pd.read_csv('Precipitacion.csv',sep=None, engine='python', encoding='latin-1', on_bad_lines='skip')\n",
    "print(lluvia.head())"
   ]
  },
  {
   "cell_type": "code",
   "execution_count": 18,
   "id": "80408e69",
   "metadata": {},
   "outputs": [
    {
     "name": "stdout",
     "output_type": "stream",
     "text": [
      "ID                          0\n",
      "CODIGO EVENTO               0\n",
      "FECHA REPORTE               0\n",
      "MES REPORTE                 0\n",
      "SEMANA EPIDEMIOLOGICA       0\n",
      "EDAD                        0\n",
      "UNI_MED                     0\n",
      "NACIONALIDAD                0\n",
      "SEXO                        0\n",
      "REGIMEN DE SALUD            0\n",
      "PERTENECIA ETNICA           0\n",
      "NOM UPGD                    0\n",
      "NOMBRE DEL EVENTO           0\n",
      "PAIS REPORTE                0\n",
      "DEPARTAMENTO REPORTE        0\n",
      "MUNICIPIO REPORTE           0\n",
      "Unnamed: 16              6807\n",
      "dtype: int64\n",
      "CodigoEstacion     0\n",
      "NombreEstacion     0\n",
      "Variable           0\n",
      "Parametro          0\n",
      "Fecha              0\n",
      "Unidad             0\n",
      "Valor              0\n",
      "NivelAprobacion    0\n",
      "dtype: int64\n"
     ]
    }
   ],
   "source": [
    "# Imprimir los datos nulos del sistema.\n",
    "print(dengue.isnull().sum())\n",
    "print(lluvia.isnull().sum())"
   ]
  },
  {
   "cell_type": "code",
   "execution_count": 19,
   "id": "e577d7af",
   "metadata": {},
   "outputs": [
    {
     "name": "stdout",
     "output_type": "stream",
     "text": [
      "   ID  CODIGO EVENTO  FECHA REPORTE MES REPORTE  SEMANA EPIDEMIOLOGICA  EDAD  \\\n",
      "0   1            210           2018       ENERO                      1    34   \n",
      "1   2            210           2018       ENERO                      1    28   \n",
      "2   3            210           2018       ENERO                      2    20   \n",
      "3   4            210           2018       ENERO                      2     1   \n",
      "4   5            210           2018       ENERO                      2     8   \n",
      "\n",
      "  UNI_MED NACIONALIDAD       SEXO REGIMEN DE SALUD       PERTENECIA ETNICA  \\\n",
      "0    AÑOS     COLOMBIA   FEMENINO       SUBSIDIADO  SIN PERTENENCIA ETNICA   \n",
      "1    AÑOS     COLOMBIA  MASCULINO       SUBSIDIADO  SIN PERTENENCIA ETNICA   \n",
      "2    AÑOS     COLOMBIA   FEMENINO       SUBSIDIADO  SIN PERTENENCIA ETNICA   \n",
      "3    AÑOS     COLOMBIA   FEMENINO     CONTRIBUTIVO  SIN PERTENENCIA ETNICA   \n",
      "4    AÑOS     COLOMBIA   FEMENINO       SUBSIDIADO  SIN PERTENENCIA ETNICA   \n",
      "\n",
      "                            NOM UPGD NOMBRE DEL EVENTO PAIS REPORTE  \\\n",
      "0               CLINICA MEDILASER SA            DENGUE     COLOMBIA   \n",
      "1  ESE HOSPITAL COMUNAL LAS MALVINAS            DENGUE     COLOMBIA   \n",
      "2            ESE HOSPITAL SAN RAFAEL            DENGUE     COLOMBIA   \n",
      "3               CLINICA MEDILASER SA            DENGUE     COLOMBIA   \n",
      "4                           SIN DATO            DENGUE     COLOMBIA   \n",
      "\n",
      "  DEPARTAMENTO REPORTE               MUNICIPIO REPORTE  \n",
      "0              CAQUETA                       FLORENCIA  \n",
      "1              CAQUETA                       FLORENCIA  \n",
      "2              CAQUETA          SAN VICENTE DEL CAGUAN  \n",
      "3              CAQUETA          SAN VICENTE DEL CAGUAN  \n",
      "4              CAQUETA  CAQUETA. MUNICIPIO DESCONOCIDO  \n"
     ]
    }
   ],
   "source": [
    "# Con el análisis anterior deteminamos que la celda \"Unnamed: 16\",\n",
    "# esta formada casi integramente de datos nulos por lo que la borramos\n",
    "dengue.drop('Unnamed: 16',axis=1,inplace=True)\n",
    "print(dengue.head())"
   ]
  },
  {
   "cell_type": "code",
   "execution_count": 23,
   "id": "9c4d5e98",
   "metadata": {},
   "outputs": [
    {
     "name": "stdout",
     "output_type": "stream",
     "text": [
      "Empty DataFrame\n",
      "Columns: [ID, CODIGO EVENTO, FECHA REPORTE, MES REPORTE, SEMANA EPIDEMIOLOGICA, EDAD, UNI_MED, NACIONALIDAD, SEXO, REGIMEN DE SALUD, PERTENECIA ETNICA, NOM UPGD, NOMBRE DEL EVENTO, PAIS REPORTE, DEPARTAMENTO REPORTE, MUNICIPIO REPORTE]\n",
      "Index: []\n"
     ]
    }
   ],
   "source": [
    "# Identificar edades inconsistentes\n",
    "# consi# deremos que las edades válidas están entre 18 y 90\n",
    "edades_inconsistentes=dengue[(dengue['EDAD']<1) | (dengue['EDAD']>100)|(dengue['EDAD'].isnull())]\n",
    "print(edades_inconsistentes)"
   ]
  },
  {
   "cell_type": "code",
   "execution_count": 26,
   "id": "1621df51",
   "metadata": {},
   "outputs": [
    {
     "name": "stdout",
     "output_type": "stream",
     "text": [
      "\n",
      " municipios con casos de Dengue\n",
      "['FLORENCIA' 'SAN VICENTE DEL CAGUAN' 'CAQUETA. MUNICIPIO DESCONOCIDO'\n",
      " 'CARTAGENA DELCHAIRA' 'EL PAUJIL' 'SOLANO' 'CURILLO' 'PUERTO RICO'\n",
      " 'SAN JOSE DEL FRAGUA' 'MORELIA' 'SOLITA' 'BELEN DE LOS ANDAQUIES'\n",
      " 'LA MONTANITA' 'EL DONCELLO' 'ALBANIA' 'VALPARAISO' 'MILAN']\n",
      "\n",
      " municipios monitoriados\n",
      "['ARARACUARA [44135010]' 'BELEN DE ANDAQUIES [44040020]'\n",
      " 'CARTAGENA D CHAIRA [46040010]' 'CORDOBA [44100010]' 'CUEMANI [44140020]'\n",
      " 'ESTRECHOS LOS [44127010]' 'LARANDIA [44030060]' 'MACAGUAL [44035030]'\n",
      " 'MAGUARE - AUT [46035010]' 'MARACAIBO [4403000112]']\n"
     ]
    }
   ],
   "source": [
    "# Identificar inconsistencias en los nombres de ciudades\n",
    "# ver una lista única de las ciudades ingresadas para detectar variaciones\n",
    "municipios_unicos=dengue['MUNICIPIO REPORTE'].dropna().unique()\n",
    "print(\"\\n municipios con casos de Dengue\")\n",
    "print(municipios_unicos)\n",
    "municipios_monitoreados = lluvia['NombreEstacion'].dropna().unique()\n",
    "print(\"\\n municipios monitoriados\")\n",
    "print(municipios_monitoreados)"
   ]
  }
 ],
 "metadata": {
  "kernelspec": {
   "display_name": ".env",
   "language": "python",
   "name": "python3"
  },
  "language_info": {
   "codemirror_mode": {
    "name": "ipython",
    "version": 3
   },
   "file_extension": ".py",
   "mimetype": "text/x-python",
   "name": "python",
   "nbconvert_exporter": "python",
   "pygments_lexer": "ipython3",
   "version": "3.13.2"
  }
 },
 "nbformat": 4,
 "nbformat_minor": 5
}
